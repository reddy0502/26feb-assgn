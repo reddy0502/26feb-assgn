{
 "cells": [
  {
   "cell_type": "markdown",
   "id": "e191e688-2ae7-4e12-8840-0896a39efe41",
   "metadata": {},
   "source": [
    "1ans:"
   ]
  },
  {
   "cell_type": "code",
   "execution_count": 2,
   "id": "fa8964a9-b436-4bad-9d18-15de64db289b",
   "metadata": {},
   "outputs": [],
   "source": [
    "import numpy as np\n",
    "list_ = ['1','2','3','4','5']\n",
    "array_list = np.array(object = list_)"
   ]
  },
  {
   "cell_type": "markdown",
   "id": "67568740-5292-4f13-8340-409674c36e79",
   "metadata": {},
   "source": [
    "A list in Python is a collection of items which can contain elements of multiple data types\n",
    "\n",
    "An array is a vector containing homogeneous elements i.e. belonging to the same data type. Elements are allocated with contiguous memory locations allowing easy modification"
   ]
  },
  {
   "cell_type": "code",
   "execution_count": 3,
   "id": "4974ad34-d2a5-4d6e-a3da-719be2721a82",
   "metadata": {},
   "outputs": [
    {
     "data": {
      "text/plain": [
       "['1', '2', '3', '4', '5']"
      ]
     },
     "execution_count": 3,
     "metadata": {},
     "output_type": "execute_result"
    }
   ],
   "source": [
    "list_"
   ]
  },
  {
   "cell_type": "code",
   "execution_count": 4,
   "id": "f3da49b7-2e6a-4671-b51b-318192f5cf15",
   "metadata": {},
   "outputs": [],
   "source": [
    "arrayList=np.array(list_)"
   ]
  },
  {
   "cell_type": "markdown",
   "id": "42e7dbf1-708b-486c-86be-a3ee2c35143a",
   "metadata": {},
   "source": [
    "2ans:"
   ]
  },
  {
   "cell_type": "code",
   "execution_count": 5,
   "id": "7ec2ab27-295a-4be3-be25-3aa64e73800a",
   "metadata": {},
   "outputs": [],
   "source": [
    "def func(a):\n",
    "    for i in a:\n",
    "        return type(i)"
   ]
  },
  {
   "cell_type": "code",
   "execution_count": 6,
   "id": "4888fd2b-5e68-4fbf-815c-43e732fba2c2",
   "metadata": {},
   "outputs": [
    {
     "data": {
      "text/plain": [
       "str"
      ]
     },
     "execution_count": 6,
     "metadata": {},
     "output_type": "execute_result"
    }
   ],
   "source": [
    "func(list_)"
   ]
  },
  {
   "cell_type": "code",
   "execution_count": 7,
   "id": "36a29953-7348-43c0-9c72-7726c6b30e2e",
   "metadata": {},
   "outputs": [
    {
     "data": {
      "text/plain": [
       "numpy.str_"
      ]
     },
     "execution_count": 7,
     "metadata": {},
     "output_type": "execute_result"
    }
   ],
   "source": [
    "func(arrayList)"
   ]
  },
  {
   "cell_type": "markdown",
   "id": "fe959c96-c7e0-454b-b01f-07a8786efb09",
   "metadata": {},
   "source": [
    "3ans:"
   ]
  },
  {
   "cell_type": "code",
   "execution_count": 8,
   "id": "117b2430-2a31-4f23-9a85-c01ede09b792",
   "metadata": {},
   "outputs": [],
   "source": [
    "import numpy as np\n",
    "list_ = ['1','2','3','4','5']\n",
    "array_list = np.array(object = list_, dtype = int)"
   ]
  },
  {
   "cell_type": "code",
   "execution_count": 9,
   "id": "34c8fb25-e4c0-41ad-91e3-c03f6b30e5c4",
   "metadata": {},
   "outputs": [
    {
     "data": {
      "text/plain": [
       "list"
      ]
     },
     "execution_count": 9,
     "metadata": {},
     "output_type": "execute_result"
    }
   ],
   "source": [
    "type(list_)"
   ]
  },
  {
   "cell_type": "code",
   "execution_count": 10,
   "id": "f52d41ec-b5db-45a7-9690-36176117e6b6",
   "metadata": {},
   "outputs": [
    {
     "data": {
      "text/plain": [
       "array([1, 2, 3, 4, 5])"
      ]
     },
     "execution_count": 10,
     "metadata": {},
     "output_type": "execute_result"
    }
   ],
   "source": [
    "array_list"
   ]
  },
  {
   "cell_type": "markdown",
   "id": "5a4ad37b-0a0f-4c32-8124-5b0d52b69b5a",
   "metadata": {},
   "source": [
    "the list_ and array_list are of differnet data types"
   ]
  },
  {
   "cell_type": "markdown",
   "id": "6135781e-6418-4ebb-8035-abdc6034ef68",
   "metadata": {},
   "source": [
    "ans4:"
   ]
  },
  {
   "cell_type": "code",
   "execution_count": 13,
   "id": "16f275fa-2651-4d79-980c-4c792d73cbf4",
   "metadata": {},
   "outputs": [],
   "source": [
    "import numpy as np\n",
    "num_list = [ [ 1 , 2 , 3 ] , [ 4 , 5 , 6 ] ]\n",
    "num_array = np.array(object = num_list)"
   ]
  },
  {
   "cell_type": "code",
   "execution_count": null,
   "id": "1d3926cd-2b74-4a42-962c-675da12e6ebe",
   "metadata": {},
   "outputs": [],
   "source": []
  }
 ],
 "metadata": {
  "kernelspec": {
   "display_name": "Python 3 (ipykernel)",
   "language": "python",
   "name": "python3"
  },
  "language_info": {
   "codemirror_mode": {
    "name": "ipython",
    "version": 3
   },
   "file_extension": ".py",
   "mimetype": "text/x-python",
   "name": "python",
   "nbconvert_exporter": "python",
   "pygments_lexer": "ipython3",
   "version": "3.10.8"
  }
 },
 "nbformat": 4,
 "nbformat_minor": 5
}
